{
 "cells": [
  {
   "cell_type": "markdown",
   "metadata": {},
   "source": [
    "# Lecture 10: Introduction to Numerical ODE Solutions\n",
    "*Originally developed based on material originally available here: http://phys.csuchico.edu/ayars/312 *\n"
   ]
  },
  {
   "cell_type": "code",
   "execution_count": null,
   "metadata": {},
   "outputs": [],
   "source": [
    "# imports\n",
    "import numpy as np\n",
    "import matplotlib.pyplot as plt\n",
    "%matplotlib inline"
   ]
  },
  {
   "cell_type": "markdown",
   "metadata": {},
   "source": [
    "## Part 1: Euler method"
   ]
  },
  {
   "cell_type": "markdown",
   "metadata": {},
   "source": [
    "### Definition of the Euler method"
   ]
  },
  {
   "cell_type": "code",
   "execution_count": null,
   "metadata": {},
   "outputs": [],
   "source": [
    "def euler(derivs, yo, times):\n",
    "    dims = len(yo)   # number of dimensions\n",
    "    N = len(times)  # number of time slices\n",
    "    y = np.zeros([N, dims])  # array of solutions\n",
    "\n",
    "    # initial condition\n",
    "    y[0] = yo\n",
    "\n",
    "    # calculate the rest\n",
    "    for j in range(1,N):\n",
    "        t = times[j]\n",
    "        dt = t-times[j-1]\n",
    "        y[j] = y[j-1] + derivs(t-dt, y[j-1])*dt\n",
    "        \n",
    "    # return the answer\n",
    "    return y\n"
   ]
  },
  {
   "cell_type": "markdown",
   "metadata": {},
   "source": [
    "### Example"
   ]
  },
  {
   "cell_type": "markdown",
   "metadata": {},
   "source": [
    "Define a differential equation: fall with air drag\n",
    "$$ a = \\frac{dv}{dt} = g - cv^2 $$\n",
    "$$ c = \\frac{1/2 \\rho A C_d}{m} $$\n",
    "\n",
    "Where\n",
    "- $ \\rho $ - density of the fluid,\n",
    "- $ C_d $ - drag coefficient,\n",
    "- $ A $ - cross-sectional area, and\n",
    "- $m$ - mass"
   ]
  },
  {
   "cell_type": "code",
   "execution_count": null,
   "metadata": {},
   "outputs": [],
   "source": [
    "def drag(time, state):\n",
    "    global g,c\n",
    "    v = state[0]\n",
    "    return g - c*v*v  "
   ]
  },
  {
   "cell_type": "markdown",
   "metadata": {},
   "source": [
    "Integration example"
   ]
  },
  {
   "cell_type": "code",
   "execution_count": null,
   "metadata": {},
   "outputs": [],
   "source": [
    "initial_state = np.array([0.0])\n",
    "g = 9.81\n",
    "\n",
    "# Human falling in air\n",
    "rho = 1.225 # kg/m^3\n",
    "Cd = 1\n",
    "A = 20 # m^2 (parachute)\n",
    "mass = 70 # kg\n",
    "c = 0.5*A*rho*Cd/mass\n",
    "\n",
    "times = np.linspace(0,50,100)      # 0.5 sec steps. check how results depend on step size\n",
    "velocity = euler(drag,initial_state,times)\n",
    "\n",
    "plt.plot(times,velocity,'r-')\n",
    "plt.xlabel('time [seconds]')\n",
    "plt.ylabel('velocity [m/s]')\n",
    "\n",
    "vTerm = velocity[-1][0]\n",
    "print('Terminal velocity = {0:.1f} m/s'.format(vTerm))\n",
    "print('Equivalent to falling from {0:.1f} m height without air resistance'.format(0.5*vTerm**2/g))"
   ]
  },
  {
   "cell_type": "markdown",
   "metadata": {},
   "source": [
    "### Example 2 : Simple Harmonic Oscillator\n",
    "\n",
    "Define a differential equation: simple harmonic motion\n"
   ]
  },
  {
   "cell_type": "code",
   "execution_count": null,
   "metadata": {},
   "outputs": [],
   "source": [
    "def SHO(time, state):\n",
    "    global omega\n",
    "    g0 = state[1]\n",
    "    g1 = -omega*omega*state[0]\n",
    "    return np.array([g0,g1])\n"
   ]
  },
  {
   "cell_type": "markdown",
   "metadata": {},
   "source": [
    "Set up the initial conditions and integration times"
   ]
  },
  {
   "cell_type": "code",
   "execution_count": null,
   "metadata": {},
   "outputs": [],
   "source": [
    "initial_state = np.array([1,0])    # Here the initial condition is x!=0, v=0.\n",
    "omega = 1\n",
    "wanted_times = np.linspace(0, 200, 1000)\n",
    "answer = euler(SHO, initial_state, wanted_times)\n",
    "\n",
    "# Plot the results\n",
    "x = answer[:,0]\n",
    "v = answer[:,1]\n",
    "plt.plot(wanted_times, x, 'b-')\n",
    "plt.plot(wanted_times, v, 'g-')\n",
    "plt.show()\n"
   ]
  },
  {
   "cell_type": "markdown",
   "metadata": {},
   "source": [
    "## Part 2: Euler-Cromer (improved Euler)"
   ]
  },
  {
   "cell_type": "code",
   "execution_count": null,
   "metadata": {},
   "outputs": [],
   "source": [
    "def eulerC(derivs, yo, times):\n",
    "    elements = len(yo)\n",
    "    N = len(times)\n",
    "    y = np.zeros([N, elements])\n",
    "\n",
    "    # initial condition\n",
    "    y[0] = yo\n",
    "\n",
    "    # calculate the rest\n",
    "    for j in range(1,N):\n",
    "        t = times[j]\n",
    "        dt = t-times[j-1]\n",
    "        y[j] = y[j-1] + derivs(t, y[j-1])*dt\n",
    "        \n",
    "        \n",
    "    # improve the calculation by computing the velocity at the *next* step    \n",
    "    for j in range(1,N):\n",
    "        t = times[j]\n",
    "        dt = t-times[j-1]\n",
    "        y[j,0] = y[j-1,0] + derivs(t, y[j-1])[0]*dt    \n",
    "        y[j,1] = y[j-1,1] + derivs(t, y[j])[1]*dt    \n",
    "    # return the answer\n",
    "    return y\n"
   ]
  },
  {
   "cell_type": "markdown",
   "metadata": {},
   "source": [
    "### Simple Harmonic Oscillator (Again)"
   ]
  },
  {
   "cell_type": "code",
   "execution_count": null,
   "metadata": {},
   "outputs": [],
   "source": [
    "answer = eulerC(SHO, initial_state, wanted_times)\n",
    "\n",
    "# Plot the results\n",
    "x = answer[:,0]\n",
    "v = answer[:,1]\n",
    "plt.plot(wanted_times, x, 'b-')\n",
    "plt.plot(wanted_times, v, 'g-')\n",
    "plt.show()\n",
    "\n",
    "# plot energy vs time\n",
    "m = 1\n",
    "k = omega*omega*m\n",
    "energy = 0.5*(k*x**2 + m*v**2)\n",
    "plt.plot(wanted_times,energy,'r-')\n"
   ]
  },
  {
   "cell_type": "markdown",
   "metadata": {},
   "source": [
    "## Part 3: Runge-Kutta method\n",
    "\n",
    "Now let's implement a 2nd-order Runge Kutta (RK).\n",
    "This function moves the value of ’y’ forward by a single step of size ’dt’, \n",
    "using a second−order Runge−Kutta algorithm. This particular algorithm is equivalent to \n",
    "finding the average of the slope at time t and at time\n",
    "( t+dt ) , and using that average slope to find value of y."
   ]
  },
  {
   "cell_type": "code",
   "execution_count": null,
   "metadata": {},
   "outputs": [],
   "source": [
    "def rk2(y, time, dt, derivs): \n",
    "    k1 = dt*derivs(time, y)\n",
    "    k2 = dt*derivs(time+dt, y+k1) \n",
    "    y_next = y+0.5*(k1+k2)\n",
    "    return y_next"
   ]
  },
  {
   "cell_type": "markdown",
   "metadata": {},
   "source": [
    "### Examples"
   ]
  },
  {
   "cell_type": "code",
   "execution_count": null,
   "metadata": {},
   "outputs": [],
   "source": [
    "initial_state = np.array([1,0])    # Here the initial condition is x!=0, v=0.\n",
    "omega = 1\n",
    "N = 1000  # number of steps\n",
    "tau = 200 # max time\n",
    "dt = tau/float(N-1)  # step size\n",
    "wanted_times = np.linspace(0, tau, N)\n",
    "\n",
    "answerE  = euler(SHO, initial_state, wanted_times)\n",
    "\n",
    "answerEK  = eulerC(SHO, initial_state, wanted_times)\n",
    "\n",
    "answerRK = np.zeros([N,2])\n",
    "answerRK[0,:] = initial_state\n",
    "for j in range (N-1):\n",
    "    answerRK[j+1] = rk2(answerRK[j], 0, dt , SHO)\n",
    "\n",
    "# Plot the results\n",
    "x = answerEK[:,0]\n",
    "xE = answerE[:,0]\n",
    "vE = answerE[:,1]\n",
    "xRK = answerRK[:,0]\n",
    "vRK = answerRK[:,1]\n",
    "plt.plot(wanted_times, x, 'b-')   # Euler-Cromer\n",
    "#plt.plot(wanted_times, xE, 'g-')  # Euler\n",
    "plt.plot(wanted_times, xRK, 'r-') # RK2\n",
    "plt.show()\n",
    "\n",
    "# plot energy vs time\n",
    "m = 1\n",
    "k = omega*omega*m\n",
    "energy = 0.5*(k*xRK**2 + m*vRK**2)\n",
    "plt.plot(wanted_times,energy,'r-')"
   ]
  },
  {
   "cell_type": "markdown",
   "metadata": {},
   "source": [
    "## SciPy library \n",
    "\n",
    "SciPy offers an interface to multiple integration routines, incuding RK23 , RK45, and LSODA routine from ODEPACK Fortran library (adaptive, high-performance multi-step integration) -- see <a href=\"https://docs.scipy.org/doc/scipy/reference/integrate.html\">scipy.integrate</a>. In particular, notice parameter ``rtol``"
   ]
  },
  {
   "cell_type": "code",
   "execution_count": null,
   "metadata": {},
   "outputs": [],
   "source": [
    "from scipy.integrate import solve_ivp\n",
    "\n",
    "answer  = solve_ivp(SHO, y0=initial_state, method='RK45', \n",
    "                    t_span=(wanted_times[0],wanted_times[-1]), \n",
    "                    t_eval=wanted_times, rtol=1e-4)\n",
    "#print(answer)\n",
    "x = answer.y[0,:]\n",
    "v = answer.y[1,:]\n",
    "plt.plot(wanted_times, x, 'b-')\n",
    "plt.plot(wanted_times, v, 'g-')\n",
    "plt.show()\n",
    "\n",
    "# plot energy vs time\n",
    "m = 1\n",
    "k = omega*omega*m\n",
    "energy = 0.5*(k*x**2 + m*v**2)\n",
    "plt.plot(wanted_times,energy,'r-')"
   ]
  },
  {
   "cell_type": "markdown",
   "metadata": {},
   "source": [
    "#### Older interface\n",
    "\n",
    "Discouraged in new implementation of SciPy, but very accurate and fast !"
   ]
  },
  {
   "cell_type": "code",
   "execution_count": null,
   "metadata": {},
   "outputs": [],
   "source": [
    "from scipy.integrate import odeint\n",
    "\n",
    "answer  = odeint(SHO, initial_state, wanted_times,tfirst=True)\n",
    "x = answer[:,0]\n",
    "v = answer[:,1]\n",
    "plt.plot(wanted_times, x, 'b-')\n",
    "plt.plot(wanted_times, v, 'g-')\n",
    "plt.show()\n",
    "\n",
    "# plot energy vs time\n",
    "m = 1\n",
    "k = omega*omega*m\n",
    "energy = 0.5*(k*x**2 + m*v**2)\n",
    "plt.plot(wanted_times,energy,'r-')"
   ]
  },
  {
   "cell_type": "code",
   "execution_count": null,
   "metadata": {},
   "outputs": [],
   "source": []
  }
 ],
 "metadata": {
  "kernelspec": {
   "display_name": "Python 3 (ipykernel)",
   "language": "python",
   "name": "python3"
  },
  "language_info": {
   "codemirror_mode": {
    "name": "ipython",
    "version": 3
   },
   "file_extension": ".py",
   "mimetype": "text/x-python",
   "name": "python",
   "nbconvert_exporter": "python",
   "pygments_lexer": "ipython3",
   "version": "3.9.6"
  }
 },
 "nbformat": 4,
 "nbformat_minor": 4
}
