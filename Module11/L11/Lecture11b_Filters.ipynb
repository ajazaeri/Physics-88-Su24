{
 "cells": [
  {
   "cell_type": "markdown",
   "metadata": {},
   "source": [
    "# Lecture 11b: Filtering and Scipy.Signal"
   ]
  },
  {
   "cell_type": "markdown",
   "metadata": {},
   "source": [
    "Demonstration of FIR filtering using scipy.signal.  Part of a lecture given in ELEG 306 Digital Signal Processing, Oct 6, 2014.\n",
    "\n",
    "Charles Boncelet, boncelet@udel.edu"
   ]
  },
  {
   "cell_type": "code",
   "execution_count": null,
   "metadata": {},
   "outputs": [],
   "source": [
    "%pylab inline\n",
    "import scipy.signal as sig"
   ]
  },
  {
   "cell_type": "code",
   "execution_count": null,
   "metadata": {},
   "outputs": [],
   "source": [
    "x = randn(1200)"
   ]
  },
  {
   "cell_type": "code",
   "execution_count": null,
   "metadata": {},
   "outputs": [],
   "source": [
    "plot(x)"
   ]
  },
  {
   "cell_type": "markdown",
   "metadata": {},
   "source": [
    "## Low Pass filter"
   ]
  },
  {
   "cell_type": "code",
   "execution_count": null,
   "metadata": {},
   "outputs": [],
   "source": [
    "sig.firwin?"
   ]
  },
  {
   "cell_type": "code",
   "execution_count": null,
   "metadata": {},
   "outputs": [],
   "source": [
    "h = sig.firwin(31,0.1)\n",
    "plot(h)"
   ]
  },
  {
   "cell_type": "markdown",
   "metadata": {},
   "source": [
    "The connected dots plot above isn't as informative as the stem plot below:"
   ]
  },
  {
   "cell_type": "code",
   "execution_count": null,
   "metadata": {},
   "outputs": [],
   "source": [
    "stem(range(len(h)),h)"
   ]
  },
  {
   "cell_type": "markdown",
   "metadata": {},
   "source": [
    "Below we plot the magnitude response of the filter versus frequency (only versus positive frequencies--the negative half is the mirror image).\n",
    "\n",
    "Notice, this is a linear phase filter whose sidelobes are about 120 dB below the passband.  Try building an analog filter like this!"
   ]
  },
  {
   "cell_type": "code",
   "execution_count": null,
   "metadata": {},
   "outputs": [],
   "source": [
    "w, v = sig.freqz(h)\n",
    "plot(w,20*log(abs(v)))"
   ]
  },
  {
   "cell_type": "code",
   "execution_count": null,
   "metadata": {},
   "outputs": [],
   "source": [
    "y=convolve(x,h)\n",
    "plot(y)"
   ]
  },
  {
   "cell_type": "markdown",
   "metadata": {},
   "source": [
    "Below, we tighten the filter to have a passband of 0.01$\\pi$ wide (ok, as well as we can do with 51 taps--more taps results in a response closer to ideal at the expense of more delay and more computation)."
   ]
  },
  {
   "cell_type": "code",
   "execution_count": null,
   "metadata": {},
   "outputs": [],
   "source": [
    "h2 = sig.firwin(51,0.01)\n",
    "stem(range(len(h2)),h2)"
   ]
  },
  {
   "cell_type": "markdown",
   "metadata": {},
   "source": [
    "Notice how the signal is much smoother now.  This is clearer in the scatter plot below.\n",
    "\n",
    "One easily missed point:  The y-axis autoscales, resulting in plots of about the same \"visual magnitude\".  But look carefully: the original plot of x has a scale from -4 to 4 while this one goes from about -0.4 to 0.4.  The signal has gotten much smaller.  Why?  Because the filter has removed about 99% of the energy!"
   ]
  },
  {
   "cell_type": "code",
   "execution_count": null,
   "metadata": {},
   "outputs": [],
   "source": [
    "y2 = convolve(x,h2)\n",
    "plot(y2)"
   ]
  },
  {
   "cell_type": "markdown",
   "metadata": {},
   "source": [
    "Show the dots. Notice how close consecutive dots are to each other.  Also, notice how the dots have \"momentum\".  This is a characteristic of a low pass signal like this."
   ]
  },
  {
   "cell_type": "code",
   "execution_count": null,
   "metadata": {},
   "outputs": [],
   "source": [
    "scatter(range(len(y2)),y2,s=2)"
   ]
  },
  {
   "cell_type": "markdown",
   "metadata": {},
   "source": [
    "## Bandpass Filter"
   ]
  },
  {
   "cell_type": "markdown",
   "metadata": {},
   "source": [
    "Notice how the bandpass filter's impulse response matches the intended signal.  It oscillates slowly between positive and negative values, much like a sinusoid of frequency 0.15$\\pi$ does."
   ]
  },
  {
   "cell_type": "code",
   "execution_count": null,
   "metadata": {},
   "outputs": [],
   "source": [
    "hbp = sig.firwin(51, [0.1,0.2], pass_zero=False)\n",
    "stem(range(len(hbp)),hbp)"
   ]
  },
  {
   "cell_type": "code",
   "execution_count": null,
   "metadata": {},
   "outputs": [],
   "source": [
    "w, v = sig.freqz(hbp)\n",
    "plot(w, 20*log(abs(v)))"
   ]
  },
  {
   "cell_type": "code",
   "execution_count": null,
   "metadata": {},
   "outputs": [],
   "source": [
    "ybp = convolve(x,hbp)\n",
    "plot(ybp)"
   ]
  },
  {
   "cell_type": "code",
   "execution_count": null,
   "metadata": {},
   "outputs": [],
   "source": [
    "stem(range(len(ybp)),ybp)"
   ]
  },
  {
   "cell_type": "markdown",
   "metadata": {},
   "source": [
    "This plot is a total mess.  It has too many points and the dots are too large.  Let's fix both:"
   ]
  },
  {
   "cell_type": "code",
   "execution_count": null,
   "metadata": {},
   "outputs": [],
   "source": [
    "segment = ybp[100:200]\n",
    "stem(range(len(segment)),segment)"
   ]
  },
  {
   "cell_type": "markdown",
   "metadata": {},
   "source": [
    "Now we can see what happened.  The signal looks like a sinusoid, oscillating slowly between positive and negative values.  It isn't a perfect sinusoid for two reasons: 1) the signal is random (we starting with white Gaussian noise) and 2) the output has components at all frequencies within (and near) the passband.  "
   ]
  },
  {
   "cell_type": "markdown",
   "metadata": {},
   "source": [
    "## High Pass Filter"
   ]
  },
  {
   "cell_type": "code",
   "execution_count": null,
   "metadata": {},
   "outputs": [],
   "source": [
    "hhp = sig.firwin(51, 0.9, pass_zero=False)\n",
    "w, v = sig.freqz(hhp)\n",
    "plot(w, 20*log(abs(v)))"
   ]
  },
  {
   "cell_type": "code",
   "execution_count": null,
   "metadata": {},
   "outputs": [],
   "source": [
    "yhp = convolve(x,hhp)\n",
    "plot(yhp)"
   ]
  },
  {
   "cell_type": "code",
   "execution_count": null,
   "metadata": {},
   "outputs": [],
   "source": [
    "plot(yhp[500:600])"
   ]
  },
  {
   "cell_type": "code",
   "execution_count": null,
   "metadata": {},
   "outputs": [],
   "source": [
    "stem(yhp[500:600])"
   ]
  },
  {
   "cell_type": "markdown",
   "metadata": {},
   "source": [
    "## Pole-Zero Plots"
   ]
  },
  {
   "cell_type": "markdown",
   "metadata": {},
   "source": [
    "Let's do some pole-zero plots.  Since the filters have no poles, we only have to worry about the zeros."
   ]
  },
  {
   "cell_type": "code",
   "execution_count": null,
   "metadata": {},
   "outputs": [],
   "source": [
    "z, p, k = sig.tf2zpk(h,1)\n",
    "z"
   ]
  },
  {
   "cell_type": "code",
   "execution_count": null,
   "metadata": {},
   "outputs": [],
   "source": [
    "theta = linspace(-pi,pi,201)\n",
    "plot(cos(theta),sin(theta))\n",
    "fig = scatter(real(z),imag(z))\n",
    "axes().set_aspect('equal')"
   ]
  },
  {
   "cell_type": "code",
   "execution_count": null,
   "metadata": {},
   "outputs": [],
   "source": [
    "z, p, k = sig.tf2zpk(hbp,[1])\n",
    "theta = linspace(-pi,pi,201)\n",
    "plot(cos(theta),sin(theta))\n",
    "fig = scatter(real(z),imag(z))\n",
    "axes().set_aspect('equal')"
   ]
  },
  {
   "cell_type": "markdown",
   "metadata": {},
   "source": [
    "Remember, zeros can be outside the unit circle without affecting stability."
   ]
  },
  {
   "cell_type": "code",
   "execution_count": null,
   "metadata": {},
   "outputs": [],
   "source": []
  }
 ],
 "metadata": {
  "kernelspec": {
   "display_name": "Python 3 (ipykernel)",
   "language": "python",
   "name": "python3"
  },
  "language_info": {
   "codemirror_mode": {
    "name": "ipython",
    "version": 3
   },
   "file_extension": ".py",
   "mimetype": "text/x-python",
   "name": "python",
   "nbconvert_exporter": "python",
   "pygments_lexer": "ipython3",
   "version": "3.9.6"
  }
 },
 "nbformat": 4,
 "nbformat_minor": 4
}
