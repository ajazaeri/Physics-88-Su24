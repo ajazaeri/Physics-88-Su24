{
 "cells": [
  {
   "cell_type": "markdown",
   "metadata": {},
   "source": [
    "# Lecture 11a: Fun with FFT and sound files"
   ]
  },
  {
   "cell_type": "markdown",
   "metadata": {},
   "source": [
    "Based on: https://realpython.com/python-scipy-fft/"
   ]
  },
  {
   "cell_type": "markdown",
   "metadata": {},
   "source": [
    "Define a function for generating pure sine wave tones"
   ]
  },
  {
   "cell_type": "code",
   "execution_count": null,
   "metadata": {},
   "outputs": [],
   "source": [
    "import numpy as np\n",
    "import matplotlib.pyplot as plt\n",
    "\n",
    "SAMPLE_RATE = 44100  # Hertz\n",
    "DURATION = 5  # Seconds\n",
    "\n",
    "def generate_sine_wave(freq, sample_rate, duration):\n",
    "    x = np.linspace(0, duration, sample_rate * duration, endpoint=False)\n",
    "    frequencies = x * freq\n",
    "    # 2pi because np.sin takes radians\n",
    "    y = np.sin(2 * np.pi * frequencies)\n",
    "    return x, y\n",
    "\n",
    "# Generate a 2 hertz sine wave that lasts for 5 seconds\n",
    "x, y = generate_sine_wave(2, SAMPLE_RATE, DURATION)\n",
    "plt.plot(x, y)\n",
    "plt.show()"
   ]
  },
  {
   "cell_type": "markdown",
   "metadata": {},
   "source": [
    "Produce two tones, e.g. 400 Hz signal and a 4 kHz high-pitch noise"
   ]
  },
  {
   "cell_type": "code",
   "execution_count": null,
   "metadata": {},
   "outputs": [],
   "source": [
    "_, nice_tone = generate_sine_wave(400, SAMPLE_RATE, DURATION)\n",
    "_, noise_tone = generate_sine_wave(4000, SAMPLE_RATE, DURATION)\n",
    "noise_tone = noise_tone * 0.3\n",
    "\n",
    "mixed_tone = nice_tone + noise_tone\n",
    "#mixed_tone = noise_tone"
   ]
  },
  {
   "cell_type": "markdown",
   "metadata": {},
   "source": [
    "For the purposes of storing the tones in an audio file, the amplitude needs to be normalized to the range of 16-bit integer"
   ]
  },
  {
   "cell_type": "code",
   "execution_count": null,
   "metadata": {},
   "outputs": [],
   "source": [
    "normalized_tone = np.int16((mixed_tone / mixed_tone.max()) * 32767)\n",
    "\n",
    "plt.plot(normalized_tone[:1000])\n",
    "plt.show()"
   ]
  },
  {
   "cell_type": "markdown",
   "metadata": {},
   "source": [
    "Store the sound for playback"
   ]
  },
  {
   "cell_type": "code",
   "execution_count": null,
   "metadata": {},
   "outputs": [],
   "source": [
    "from scipy.io import wavfile as wf\n",
    "\n",
    "# Remember SAMPLE_RATE = 44100 Hz is our playback rate\n",
    "wf.write(\"mysinewave.wav\", SAMPLE_RATE, normalized_tone)\n"
   ]
  },
  {
   "cell_type": "markdown",
   "metadata": {},
   "source": [
    "Can also try to record the sound (NB: won't work on datahub !)"
   ]
  },
  {
   "cell_type": "code",
   "execution_count": null,
   "metadata": {},
   "outputs": [],
   "source": [
    "# import required libraries \n",
    "%pip install sounddevice\n",
    "import sounddevice as sd \n",
    "\n",
    "print(\"Recording...\")\n",
    "\n",
    "# Start recorder with the given values \n",
    "# of duration and sample frequency \n",
    "recording = sd.rec(int(DURATION * SAMPLE_RATE), samplerate=SAMPLE_RATE, channels=1) \n",
    "\n",
    "# Record audio for the given number of seconds \n",
    "sd.wait() \n",
    "\n",
    "print(\"Done\")\n",
    "\n",
    "# This will convert the NumPy array to an audio \n",
    "# file with the given sampling frequency \n",
    "wf.write(\"recording0.wav\", SAMPLE_RATE, recording) \n"
   ]
  },
  {
   "cell_type": "markdown",
   "metadata": {},
   "source": [
    "### Fourier transforms\n",
    "\n",
    "Now try to transform the time stream into frequency space using FFT"
   ]
  },
  {
   "cell_type": "code",
   "execution_count": null,
   "metadata": {},
   "outputs": [],
   "source": [
    "from scipy.fft import fft, fftfreq\n",
    "\n",
    "# Number of samples in normalized_tone\n",
    "N = SAMPLE_RATE * DURATION\n",
    "\n",
    "yf = fft(normalized_tone)\n",
    "xf = fftfreq(N, 1 / SAMPLE_RATE)\n",
    "print('Type of the output array: ',type(yf[0]))\n",
    "print('Size of the input array: ',N)\n",
    "print('Size of the Fourier transform: ',len(xf))\n",
    "df = xf[1]-xf[0]\n",
    "print(f'Width of the frequency bins: {df} Hz')\n",
    "\n",
    "plt.plot(xf, np.abs(yf))\n",
    "plt.xlabel('Frequency (Hz)')\n",
    "plt.ylabel('FFT magnitude (a.u.)')\n",
    "plt.show()\n",
    "\n",
    "\n",
    "plt.figure()\n",
    "plt.yscale('log')\n",
    "plt.plot(xf, np.abs(yf))\n",
    "plt.xlabel('Frequency (Hz)')\n",
    "plt.ylabel('FFT magnitude (a.u.)')\n",
    "plt.xlim(350,4050)\n",
    "plt.show()"
   ]
  },
  {
   "cell_type": "markdown",
   "metadata": {},
   "source": [
    "You notice that fft returns data for both positive and negative frequencies, produces the output array of the same size as input, and the output is a set of *complex* numbers. However, the information is reduntant: only half of the output values are unique. The magnitudes of the Fourier coefficients at negative frequencies are the same as at the corresponding positive frequencies. This is the property of the *real* Fourier transform, i.e. the transform applied to real-value signals. More precisely, $\\mathrm{fft}(f)=\\mathrm{fft}^*(-f)$"
   ]
  },
  {
   "cell_type": "code",
   "execution_count": null,
   "metadata": {},
   "outputs": [],
   "source": [
    "print(xf[1],xf[-1])\n",
    "print(yf[1],yf[-1])"
   ]
  },
  {
   "cell_type": "markdown",
   "metadata": {},
   "source": [
    "We can use this fact to save computational time and storage by computing only half of the Fourier coefficients:"
   ]
  },
  {
   "cell_type": "code",
   "execution_count": null,
   "metadata": {},
   "outputs": [],
   "source": [
    "from scipy.fft import rfft, rfftfreq\n",
    "\n",
    "# Note the extra 'r' at the front\n",
    "yf = rfft(normalized_tone)\n",
    "xf = rfftfreq(N, 1 / SAMPLE_RATE)\n",
    "print('Type of the output array: ',type(yf[0]))\n",
    "print('Size of the input array: ',N)\n",
    "print('Size of the Fourier transform: ',len(xf))\n",
    "df = xf[1]-xf[0]\n",
    "print(f'Width of the frequency bins: {df} Hz')\n",
    "\n",
    "plt.plot(xf, np.abs(yf))\n",
    "plt.xlim(1,5000)\n",
    "plt.xlabel('Frequency (Hz)')\n",
    "plt.ylabel('FFT magnitude (a.u.)')\n",
    "plt.show()\n"
   ]
  },
  {
   "cell_type": "markdown",
   "metadata": {},
   "source": [
    "Now let's look at the Fourier transform of a recorded sound:"
   ]
  },
  {
   "cell_type": "code",
   "execution_count": null,
   "metadata": {},
   "outputs": [],
   "source": [
    "rate, data = wf.read(\"guitar.wav\")\n",
    "N=len(data)\n",
    "print(rate, N)\n",
    "time=np.arange(0, N)/rate\n",
    "\n",
    "plt.plot(time, data)\n",
    "plt.xlabel('time (sec)')\n",
    "plt.ylabel('Sound a.u.)')\n",
    "plt.show()\n",
    "\n",
    "yf = rfft(data)\n",
    "xf = rfftfreq(len(data), 1 / rate)\n",
    "print('Type of the output array: ',type(yf[0]))\n",
    "print('Size of the input array: ',len(data))\n",
    "print('Size of the Fourier transform: ',len(xf))\n",
    "df = xf[1]-xf[0]\n",
    "print(f'Width of the frequency bins: {df} Hz')\n",
    "\n",
    "mag = np.abs(yf)\n",
    "\n",
    "plt.figure()\n",
    "plt.loglog(xf, mag)\n",
    "plt.xlabel('Frequency (Hz)')\n",
    "plt.ylabel('FFT magnitude (a.u.)')\n",
    "plt.show()\n",
    "\n",
    "plt.figure()\n",
    "plt.plot(xf, mag)\n",
    "plt.yscale('log')\n",
    "plt.xlim(100,2000)\n",
    "plt.xlabel('Frequency (Hz)')\n",
    "plt.ylabel('FFT magnitude (a.u.)')\n",
    "plt.show()\n",
    "\n",
    "fMax = xf[np.argmax(mag)]\n",
    "print(f'Frequency of loudest tone: {fMax}')"
   ]
  },
  {
   "cell_type": "markdown",
   "metadata": {},
   "source": [
    "See for example a chart of fundamental frequencies of notes <a href=\"https://pages.mtu.edu/~suits/notefreqs.html\">here</a>"
   ]
  },
  {
   "cell_type": "code",
   "execution_count": null,
   "metadata": {},
   "outputs": [],
   "source": []
  }
 ],
 "metadata": {
  "kernelspec": {
   "display_name": "Python 3 (ipykernel)",
   "language": "python",
   "name": "python3"
  },
  "language_info": {
   "codemirror_mode": {
    "name": "ipython",
    "version": 3
   },
   "file_extension": ".py",
   "mimetype": "text/x-python",
   "name": "python",
   "nbconvert_exporter": "python",
   "pygments_lexer": "ipython3",
   "version": "3.9.6"
  }
 },
 "nbformat": 4,
 "nbformat_minor": 4
}
