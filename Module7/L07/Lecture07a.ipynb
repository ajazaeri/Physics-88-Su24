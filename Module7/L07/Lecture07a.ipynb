{
 "cells": [
  {
   "cell_type": "markdown",
   "metadata": {},
   "source": [
    "# Lecture 7a: Numerical Differentiation "
   ]
  },
  {
   "cell_type": "markdown",
   "metadata": {},
   "source": [
    "The following was adapted from: https://github.com/jkitchin/pycse/blob/master/pycse-chapters/math.org"
   ]
  },
  {
   "cell_type": "markdown",
   "metadata": {},
   "source": [
    "numpy has a function called numpy.diff() that is similar to the one found in matlab. It calculates the differences between the elements in your list, and returns a list that is one element shorter, which makes it unsuitable for plotting the derivative of a function.\n",
    "\n",
    "there is also a function in scipy called scipy.misc.derivate, which calculates a derivative to arbitrary order, however, it takes as input a function rather than a set of data, which makes its use limited."
   ]
  },
  {
   "cell_type": "markdown",
   "metadata": {},
   "source": [
    "### Using loops to find finite difference derivatives"
   ]
  },
  {
   "cell_type": "markdown",
   "metadata": {},
   "source": [
    "Loops in python are pretty slow (relatively speaking) but they are usually trivial to understand. In this script we show some simple ways to construct derivative vectors using loops. It is implied in these formulas that the data points are equally spaced."
   ]
  },
  {
   "cell_type": "code",
   "execution_count": null,
   "metadata": {},
   "outputs": [],
   "source": [
    "import numpy as np\n",
    "import matplotlib.pylab as plt\n",
    "from pylab import *\n",
    "import time\n",
    "%matplotlib inline\n",
    "\n",
    "'''\n",
    "These are quick simple ways to calculate numerical derivatives. They\n",
    "work well for very smooth data. they are surprisingly fast even up to\n",
    "10000 points in the vector.\n",
    "'''\n",
    "\n",
    "x = np.linspace(0,3,3000)\n",
    "y = x**2+2*x-5\n",
    "dy_analytical = 2*x+2\n",
    "'''\n",
    "lets use a forward difference method:\n",
    "that works up until the last point, where there is not\n",
    "a forward difference to use. there, we use a backward difference.\n",
    "'''\n",
    "\n",
    "tf1 = time.time()\n",
    "dyf = [0.0]*len(x)\n",
    "for i in range(len(y)-1):\n",
    "    dyf[i] = (y[i+1] - y[i])/(x[i+1]-x[i])\n",
    "#set last element by backwards difference\n",
    "dyf[-1] = (y[-1] - y[-2])/(x[-1] - x[-2])\n",
    "\n",
    "print (' Forward difference took %1.16f seconds' % (time.time() - tf1))\n",
    "\n",
    "'''and now a backwards difference'''\n",
    "tb1 = time.time()\n",
    "dyb = [0.0]*len(x)\n",
    "#set first element by forward difference\n",
    "dyb[0] = (y[0] - y[1])/(x[0] - x[1])\n",
    "for i in range(1,len(y)):\n",
    "    dyb[i] = (y[i] - y[i-1])/(x[i]-x[i-1])\n",
    "\n",
    "print (' Backward difference took %1.16f seconds' % (time.time() - tb1))\n",
    "\n",
    "'''and now, a centered formula'''\n",
    "tc1 = time.time()\n",
    "dyc = [0.0]*len(x)\n",
    "dyc[0] = (y[0] - y[1])/(x[0] - x[1])\n",
    "for i in range(1,len(y)-1):\n",
    "    dyc[i] = (y[i+1] - y[i-1])/(x[i+1]-x[i-1])\n",
    "dyc[-1] = (y[-1] - y[-2])/(x[-1] - x[-2])\n",
    "\n",
    "print (' Centered difference took %1.16f seconds' % (time.time() - tc1))\n",
    "\n",
    "#plot(x,y)\n",
    "plt.plot(x,dy_analytical,label='analytical derivative')\n",
    "plt.plot(x,dyf,'--',label='forward')\n",
    "plt.plot(x,dyb,'--',label='backward')\n",
    "plt.plot(x,dyc,'--',label='centered')\n",
    "plt.title('Quadratic function')\n",
    "\n",
    "plt.legend(loc='upper left')\n",
    "#plt.savefig('9.2.1-simple-diffs.png')\n",
    "plt.show()"
   ]
  },
  {
   "cell_type": "markdown",
   "metadata": {},
   "source": [
    "Let's compute the errors of each algorithm"
   ]
  },
  {
   "cell_type": "code",
   "execution_count": null,
   "metadata": {},
   "outputs": [],
   "source": [
    "diff_dyf = (dyf-dy_analytical)/dy_analytical\n",
    "diff_dyb = (dyb-dy_analytical)/dy_analytical\n",
    "diff_dyc = (dyc-dy_analytical)/dy_analytical\n",
    "\n",
    "plt.plot(x,diff_dyf,'--',label='forward')\n",
    "plt.plot(x,diff_dyb,'--',label='backward')\n",
    "plt.plot(x,diff_dyc,'--',label='centered')\n",
    "plt.title('Fractional errors')\n",
    "plt.xlabel('x')\n",
    "plt.ylabel('(numerical-analytical)/analytical')\n",
    "\n",
    "legend(loc='upper right')\n",
    "plt.show()"
   ]
  },
  {
   "cell_type": "code",
   "execution_count": null,
   "metadata": {},
   "outputs": [],
   "source": [
    "plt.plot(x[1:-1],diff_dyc[1:-1],'g--')"
   ]
  },
  {
   "cell_type": "code",
   "execution_count": null,
   "metadata": {
    "scrolled": true
   },
   "outputs": [],
   "source": [
    "'''\n",
    "These are quick simple ways to calculate numerical derivatives. They\n",
    "work well for very smooth data. they are surprisingly fast even up to\n",
    "10000 points in the vector.\n",
    "'''\n",
    "\n",
    "x = np.linspace(0,np.pi,30)\n",
    "y = np.sin(x)\n",
    "dy_analytical = np.cos(x)\n",
    "'''\n",
    "lets use a forward difference method:\n",
    "that works up until the last point, where there is not\n",
    "a forward difference to use. there, we use a backward difference.\n",
    "'''\n",
    "\n",
    "tf1 = time.time()\n",
    "dyf = [0.0]*len(x)\n",
    "for i in range(len(y)-1):\n",
    "    dyf[i] = (y[i+1] - y[i])/(x[i+1]-x[i])\n",
    "#set last element by backwards difference\n",
    "dyf[-1] = (y[-1] - y[-2])/(x[-1] - x[-2])\n",
    "\n",
    "print (' Forward difference took %1.16f seconds' % (time.time() - tf1))\n",
    "\n",
    "'''and now a backwards difference'''\n",
    "tb1 = time.time()\n",
    "dyb = [0.0]*len(x)\n",
    "#set first element by forward difference\n",
    "dyb[0] = (y[0] - y[1])/(x[0] - x[1])\n",
    "for i in range(1,len(y)):\n",
    "    dyb[i] = (y[i] - y[i-1])/(x[i]-x[i-1])\n",
    "\n",
    "print (' Backward difference took %1.16f seconds' % (time.time() - tb1))\n",
    "\n",
    "'''and now, a centered formula'''\n",
    "tc1 = time.time()\n",
    "dyc = [0.0]*len(x)\n",
    "dyc[0] = (y[0] - y[1])/(x[0] - x[1])\n",
    "for i in range(1,len(y)-1):\n",
    "    dyc[i] = (y[i+1] - y[i-1])/(x[i+1]-x[i-1])\n",
    "dyc[-1] = (y[-1] - y[-2])/(x[-1] - x[-2])\n",
    "\n",
    "print (' Centered difference took %1.16f seconds' % (time.time() - tc1))\n",
    "\n",
    "\n",
    "# the centered formula is the most accurate formula here\n",
    "%matplotlib inline\n",
    "\n",
    "#plot(x,y)\n",
    "plt.plot(x,dy_analytical,label='analytical derivative')\n",
    "plt.plot(x,dyf,'--',label='forward')\n",
    "plt.plot(x,dyb,'--',label='backward')\n",
    "plt.plot(x,dyc,'--',label='centered')\n",
    "\n",
    "plt.legend(loc='lower left')\n",
    "#savefig('9.2.1-simple-diffs.png')\n",
    "plt.show()"
   ]
  },
  {
   "cell_type": "markdown",
   "metadata": {},
   "source": [
    "Let's compute the errors of each algorithm"
   ]
  },
  {
   "cell_type": "code",
   "execution_count": null,
   "metadata": {},
   "outputs": [],
   "source": [
    "diff_dyf = dyf-dy_analytical\n",
    "diff_dyb = dyb-dy_analytical\n",
    "diff_dyc = dyc-dy_analytical\n",
    "\n",
    "plt.plot(x,diff_dyf,'--',label='forward')\n",
    "plt.plot(x,diff_dyb,'--',label='backward')\n",
    "plt.plot(x,diff_dyc,'--',label='centered')\n",
    "plt.title('Differences')\n",
    "plt.xlabel('x')\n",
    "plt.ylabel('(numerical-analytical)')\n",
    "\n",
    "legend(loc='upper right')\n",
    "plt.show()"
   ]
  },
  {
   "cell_type": "code",
   "execution_count": null,
   "metadata": {},
   "outputs": [],
   "source": [
    "plt.plot(x[1:-1],diff_dyc[1:-1],'g--')"
   ]
  },
  {
   "cell_type": "code",
   "execution_count": null,
   "metadata": {},
   "outputs": [],
   "source": [
    "'''\n",
    "These are quick simple ways to calculate numerical derivatives. They\n",
    "work well for very smooth data. they are surprisingly fast even up to\n",
    "10000 points in the vector.\n",
    "'''\n",
    "\n",
    "x = np.linspace(0.1,3,300)\n",
    "y = np.exp(x**2)\n",
    "dy_analytical = 2*x*np.exp(x**2)\n",
    "'''\n",
    "lets use a forward difference method:\n",
    "that works up until the last point, where there is not\n",
    "a forward difference to use. there, we use a backward difference.\n",
    "'''\n",
    "\n",
    "tf1 = time.time()\n",
    "dyf = [0.0]*len(x)\n",
    "for i in range(len(y)-1):\n",
    "    dyf[i] = (y[i+1] - y[i])/(x[i+1]-x[i])\n",
    "#set last element by backwards difference\n",
    "dyf[-1] = (y[-1] - y[-2])/(x[-1] - x[-2])\n",
    "\n",
    "print (' Forward difference took %1.16f seconds' % (time.time() - tf1))\n",
    "\n",
    "'''and now a backwards difference'''\n",
    "tb1 = time.time()\n",
    "dyb = [0.0]*len(x)\n",
    "#set first element by forward difference\n",
    "dyb[0] = (y[0] - y[1])/(x[0] - x[1])\n",
    "for i in range(1,len(y)):\n",
    "    dyb[i] = (y[i] - y[i-1])/(x[i]-x[i-1])\n",
    "\n",
    "print (' Backward difference took %1.16f seconds' % (time.time() - tb1))\n",
    "\n",
    "'''and now, a centered formula'''\n",
    "tc1 = time.time()\n",
    "dyc = [0.0]*len(x)\n",
    "dyc[0] = (y[0] - y[1])/(x[0] - x[1])\n",
    "for i in range(1,len(y)-1):\n",
    "    dyc[i] = (y[i+1] - y[i-1])/(x[i+1]-x[i-1])\n",
    "dyc[-1] = (y[-1] - y[-2])/(x[-1] - x[-2])\n",
    "\n",
    "print (' Centered difference took %1.16f seconds' % (time.time() - tc1))\n",
    "\n",
    "\n",
    "#plot(x,y)\n",
    "plt.plot(x,dy_analytical,label='analytical derivative')\n",
    "plt.plot(x,dyf,'--',label='forward')\n",
    "plt.plot(x,dyb,'--',label='backward')\n",
    "plt.plot(x,dyc,'--',label='centered')\n",
    "plt.title('Exponential function')\n",
    "\n",
    "legend(loc='upper left')\n",
    "#savefig('9.2.1-simple-diffs.png')\n",
    "#show()"
   ]
  },
  {
   "cell_type": "markdown",
   "metadata": {},
   "source": [
    "Plot the fractional error of the derivatives"
   ]
  },
  {
   "cell_type": "code",
   "execution_count": null,
   "metadata": {},
   "outputs": [],
   "source": [
    "r_dyf = dyf/dy_analytical-1\n",
    "r_dyb = dyb/dy_analytical-1\n",
    "r_dyc = dyc/dy_analytical-1\n",
    "\n",
    "plt.plot(x,r_dyf,'--',label='forward')\n",
    "plt.plot(x,r_dyb,'--',label='backward')\n",
    "plt.plot(x,r_dyc,'--',label='centered')\n",
    "plt.title('Fractional errors')\n",
    "plt.xlabel('x')\n",
    "plt.ylabel('(numerical-analytical)/analytical')\n",
    "\n",
    "legend(loc='upper center')\n",
    "plt.show()\n"
   ]
  },
  {
   "cell_type": "code",
   "execution_count": null,
   "metadata": {},
   "outputs": [],
   "source": [
    "plt.plot(x[1:-1],r_dyc[1:-1],'g--')"
   ]
  },
  {
   "cell_type": "markdown",
   "metadata": {},
   "source": [
    "### Derivatives in the presense of noise"
   ]
  },
  {
   "cell_type": "code",
   "execution_count": null,
   "metadata": {},
   "outputs": [],
   "source": [
    "x = np.linspace(0,2*np.pi,1000)\n",
    "y = np.sin(x) + 0.01*np.random.random(size=x.shape)\n",
    "dy_analytical = np.cos(x)\n",
    "\n",
    "#2-point formula, forward diff\n",
    "dyf = [0.0]*len(x)\n",
    "for i in range(len(y)-1):\n",
    "    dyf[i] = (y[i+1] - y[i])/(x[i+1]-x[i])\n",
    "#set last element by backwards difference\n",
    "dyf[-1] = (y[-1] - y[-2])/(x[-1] - x[-2])\n",
    "\n",
    "'''\n",
    "calculate dy by 4-point center differencing using array slices\n",
    "\n",
    "\\frac{y[i-2] - 8y[i-1] + 8[i+1] - y[i+2]}{12h}\n",
    "\n",
    "y[0] and y[1] must be defined by lower order methods\n",
    "and y[-1] and y[-2] must be defined by lower order methods\n",
    "'''\n",
    "\n",
    "dy = np.zeros(y.shape,float) #we know it will be this size\n",
    "h = x[1]-x[0] #this assumes the points are evenely spaced!\n",
    "dy[2:-2] = (y[0:-4] - 8*y[1:-3] + 8*y[3:-1] - y[4:])/(12.*h)\n",
    "\n",
    "dy[0] = (y[1]-y[0])/(x[1]-x[0])\n",
    "dy[1] = (y[2]-y[1])/(x[2]-x[1])\n",
    "dy[-2] = (y[-2] - y[-3])/(x[-2] - x[-3])\n",
    "dy[-1] = (y[-1] - y[-2])/(x[-1] - x[-2])\n",
    "\n",
    "fg3 = plt.figure(figsize=(10,8))\n",
    "plt.plot(x,y,label='function')\n",
    "plt.plot(x,dy_analytical,label='analytical derivative')\n",
    "plt.plot(x,dyf,'r-',label='2pt-forward diff')\n",
    "plt.plot(x,dy,'k--',lw=2,label='4pt-centered diff')\n",
    "\n",
    "plt.legend(loc='upper center')"
   ]
  },
  {
   "cell_type": "code",
   "execution_count": null,
   "metadata": {},
   "outputs": [],
   "source": [
    "# compute a running average of the derivative\n",
    "Nave = 20    # number = 2*Nave+1\n",
    "\n",
    "dyave = [np.mean(dy[i-Nave:i+Nave]) for i in range(Nave,len(dy)-Nave)]\n",
    "plt.plot(x,dy_analytical,label='analytical derivative')\n",
    "plt.plot(x[Nave:-Nave],dyave,'k--',lw=2,label='running average of 4pt diff')\n",
    "\n",
    "plt.legend(loc='upper center')"
   ]
  },
  {
   "cell_type": "code",
   "execution_count": null,
   "metadata": {},
   "outputs": [],
   "source": []
  }
 ],
 "metadata": {
  "kernelspec": {
   "display_name": "Python 3 (ipykernel)",
   "language": "python",
   "name": "python3"
  },
  "language_info": {
   "codemirror_mode": {
    "name": "ipython",
    "version": 3
   },
   "file_extension": ".py",
   "mimetype": "text/x-python",
   "name": "python",
   "nbconvert_exporter": "python",
   "pygments_lexer": "ipython3",
   "version": "3.9.6"
  }
 },
 "nbformat": 4,
 "nbformat_minor": 1
}
